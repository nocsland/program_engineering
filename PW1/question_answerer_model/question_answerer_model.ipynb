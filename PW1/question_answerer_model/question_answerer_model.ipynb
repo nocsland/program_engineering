{
  "nbformat": 4,
  "nbformat_minor": 0,
  "metadata": {
    "colab": {
      "provenance": [],
      "authorship_tag": "ABX9TyNte0BkDcfStOJyr2bNz37G",
      "include_colab_link": true
    },
    "kernelspec": {
      "name": "python3",
      "display_name": "Python 3"
    },
    "language_info": {
      "name": "python"
    }
  },
  "cells": [
    {
      "cell_type": "markdown",
      "metadata": {
        "id": "view-in-github",
        "colab_type": "text"
      },
      "source": [
        "<a href=\"https://colab.research.google.com/github/nocsland/program_engineering/blob/master/PW1/question_answerer_model.ipynb\" target=\"_parent\"><img src=\"https://colab.research.google.com/assets/colab-badge.svg\" alt=\"Open In Colab\"/></a>"
      ]
    },
    {
      "cell_type": "code",
      "execution_count": 2,
      "metadata": {
        "colab": {
          "base_uri": "https://localhost:8080/"
        },
        "id": "vHI-C18Vx1HB",
        "outputId": "30cc1265-54ca-49f1-a1ae-0d78d19f2fb2"
      },
      "outputs": [
        {
          "output_type": "stream",
          "name": "stdout",
          "text": [
            "Requirement already satisfied: transformers in /usr/local/lib/python3.10/dist-packages (4.34.1)\n",
            "Collecting sentencepiece\n",
            "  Downloading sentencepiece-0.1.99-cp310-cp310-manylinux_2_17_x86_64.manylinux2014_x86_64.whl (1.3 MB)\n",
            "\u001b[2K     \u001b[90m━━━━━━━━━━━━━━━━━━━━━━━━━━━━━━━━━━━━━━━━\u001b[0m \u001b[32m1.3/1.3 MB\u001b[0m \u001b[31m14.9 MB/s\u001b[0m eta \u001b[36m0:00:00\u001b[0m\n",
            "\u001b[?25hRequirement already satisfied: filelock in /usr/local/lib/python3.10/dist-packages (from transformers) (3.12.4)\n",
            "Requirement already satisfied: huggingface-hub<1.0,>=0.16.4 in /usr/local/lib/python3.10/dist-packages (from transformers) (0.17.3)\n",
            "Requirement already satisfied: numpy>=1.17 in /usr/local/lib/python3.10/dist-packages (from transformers) (1.23.5)\n",
            "Requirement already satisfied: packaging>=20.0 in /usr/local/lib/python3.10/dist-packages (from transformers) (23.2)\n",
            "Requirement already satisfied: pyyaml>=5.1 in /usr/local/lib/python3.10/dist-packages (from transformers) (6.0.1)\n",
            "Requirement already satisfied: regex!=2019.12.17 in /usr/local/lib/python3.10/dist-packages (from transformers) (2023.6.3)\n",
            "Requirement already satisfied: requests in /usr/local/lib/python3.10/dist-packages (from transformers) (2.31.0)\n",
            "Requirement already satisfied: tokenizers<0.15,>=0.14 in /usr/local/lib/python3.10/dist-packages (from transformers) (0.14.1)\n",
            "Requirement already satisfied: safetensors>=0.3.1 in /usr/local/lib/python3.10/dist-packages (from transformers) (0.4.0)\n",
            "Requirement already satisfied: tqdm>=4.27 in /usr/local/lib/python3.10/dist-packages (from transformers) (4.66.1)\n",
            "Requirement already satisfied: fsspec in /usr/local/lib/python3.10/dist-packages (from huggingface-hub<1.0,>=0.16.4->transformers) (2023.6.0)\n",
            "Requirement already satisfied: typing-extensions>=3.7.4.3 in /usr/local/lib/python3.10/dist-packages (from huggingface-hub<1.0,>=0.16.4->transformers) (4.5.0)\n",
            "Requirement already satisfied: charset-normalizer<4,>=2 in /usr/local/lib/python3.10/dist-packages (from requests->transformers) (3.3.1)\n",
            "Requirement already satisfied: idna<4,>=2.5 in /usr/local/lib/python3.10/dist-packages (from requests->transformers) (3.4)\n",
            "Requirement already satisfied: urllib3<3,>=1.21.1 in /usr/local/lib/python3.10/dist-packages (from requests->transformers) (2.0.7)\n",
            "Requirement already satisfied: certifi>=2017.4.17 in /usr/local/lib/python3.10/dist-packages (from requests->transformers) (2023.7.22)\n",
            "Installing collected packages: sentencepiece\n",
            "Successfully installed sentencepiece-0.1.99\n"
          ]
        }
      ],
      "source": [
        "!pip install transformers sentencepiece"
      ]
    },
    {
      "cell_type": "code",
      "source": [
        "from transformers import pipeline"
      ],
      "metadata": {
        "id": "Ho27wOFNz7k7"
      },
      "execution_count": 3,
      "outputs": []
    },
    {
      "cell_type": "code",
      "source": [
        "question_answerer = pipeline(\"question-answering\", model=\"timpal0l/mdeberta-v3-base-squad2\")"
      ],
      "metadata": {
        "id": "g4bV5vmU1Ret"
      },
      "execution_count": 5,
      "outputs": []
    },
    {
      "cell_type": "code",
      "source": [
        "question = input(\"Enter your question: \")"
      ],
      "metadata": {
        "colab": {
          "base_uri": "https://localhost:8080/"
        },
        "id": "NnM185mZ19lW",
        "outputId": "95b7809d-196c-405f-d54f-a91757905a85"
      },
      "execution_count": 7,
      "outputs": [
        {
          "name": "stdout",
          "output_type": "stream",
          "text": [
            "Enter your question: в какой коллекции находится полотно «Сенокос»?\n"
          ]
        }
      ]
    },
    {
      "cell_type": "code",
      "source": [
        "context = input(\"Enter context: \")"
      ],
      "metadata": {
        "colab": {
          "base_uri": "https://localhost:8080/"
        },
        "id": "LAidoZK8321c",
        "outputId": "92c1d882-4e2d-463c-b673-0025cf315590"
      },
      "execution_count": 8,
      "outputs": [
        {
          "name": "stdout",
          "output_type": "stream",
          "text": [
            "Enter context: «Сенокос» — картина русского советского художника Аркадия Пластова. Создана в 1945 году в деревне Прислониха Ульяновской области. Натурщиками стали односельчане художника. Полотно впервые было представлено широкой зрительской аудитории в 1946 году на I Всесоюзной художественной выставке. Вместе с картиной Пластова «Жатва» оно была удостоена Сталинской премии I степени за 1945 год.  Полотно в разное время привлекало внимание крупных советских и современных российских искусствоведов и историков. Его анализировали доктор исторических наук Валерий Кузнецов, доктора искусствоведения Александр Морозов и Владимир Леняшин, кандидаты искусствоведения Лев Мочалов, Владимир Сысоев и другие исследователи. Валерий Кузнецов назвал картину шедевром, к которому и прибавить что-либо трудно, и превзойти его невозможно. В картине воплотились надежды художника на лучшее будущее, на приход мирной жизни. Бытовой эпизод, запечатлённый на картине «Сенокос», благодаря монументальности полотна приобретает возвышенный смысл. При этом полотно наполнено лирикой, а образы поэзией. Война заставила художника отойти от фиксации внешних событий и обратиться к изображению внутреннего мира человека. По мнению Валерия Кузнецова, рисуя человека, Пластов изображал народ — великий, мужественный и трудолюбивый.  Полотно «Сенокос» находится в коллекции Государственной Третьяковской галереи (постоянная экспозиция отечественного искусства XX и XXI веков в Новой Третьяковке, зал № 28). Картины Пластова середины 1940-х годов, как и раньше, наполнены динамизмом, но в это время он стал реже обращаться к многофигурным композициям. Персонажи его полотен середины 1940-х годов погружены в молчаливое раздумье. По убеждению ряда искусствоведов, «Сенокос» является одной из вершин творчества художника, его этапным произведением.\n"
          ]
        }
      ]
    },
    {
      "cell_type": "code",
      "source": [
        "preds = question_answerer(question, context)"
      ],
      "metadata": {
        "id": "YDVPaNCn4Mi6"
      },
      "execution_count": 9,
      "outputs": []
    },
    {
      "cell_type": "code",
      "source": [
        "print(f\"\\nquestion: {question}\\n\\\n",
        "answer: {preds['answer']}\\n\\\n",
        "score:\\t{round(preds['score'], 4)},\\n\\\n",
        "start:\\t{preds['start']},\\n\\\n",
        "end:\\t{preds['end']}\")"
      ],
      "metadata": {
        "colab": {
          "base_uri": "https://localhost:8080/"
        },
        "id": "dTriB0a_4efC",
        "outputId": "8b7e9e21-de6e-4349-84a3-7150e03bc1c5"
      },
      "execution_count": 25,
      "outputs": [
        {
          "output_type": "stream",
          "name": "stdout",
          "text": [
            "\n",
            "question: в какой коллекции находится полотно «Сенокос»?\n",
            "answer:  Государственной Третьяковской галереи\n",
            "score:\t0.976,\n",
            "start:\t1332,\n",
            "end:\t1370\n"
          ]
        }
      ]
    }
  ]
}